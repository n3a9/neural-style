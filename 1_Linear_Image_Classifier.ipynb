{
  "nbformat": 4,
  "nbformat_minor": 0,
  "metadata": {
    "colab": {
      "name": "1_Linear_Image_Classifier.ipynb",
      "version": "0.3.2",
      "provenance": []
    },
    "kernelspec": {
      "display_name": "Python 2",
      "language": "python",
      "name": "python2"
    },
    "accelerator": "GPU"
  },
  "cells": [
    {
      "metadata": {
        "id": "7b59nxj-nDPJ",
        "colab_type": "text"
      },
      "cell_type": "markdown",
      "source": [
        "# A linear classifier for the MNIST handwritten digit dataset"
      ]
    },
    {
      "metadata": {
        "id": "2YFKdiC7OiTq",
        "colab_type": "code",
        "colab": {
          "base_uri": "https://localhost:8080/",
          "height": 136
        },
        "outputId": "15d9cc13-3308-455e-8f74-5401c424cb9d"
      },
      "cell_type": "code",
      "source": [
        "!ls -al MNIST_data"
      ],
      "execution_count": 33,
      "outputs": [
        {
          "output_type": "stream",
          "text": [
            "total 11344\r\n",
            "drwxr-xr-x 2 root root    4096 Apr 14 17:44 .\r\n",
            "drwxr-xr-x 1 root root    4096 Apr 14 17:44 ..\r\n",
            "-rw-r--r-- 1 root root 1648877 Apr 14 17:44 t10k-images-idx3-ubyte.gz\r\n",
            "-rw-r--r-- 1 root root    4542 Apr 14 17:44 t10k-labels-idx1-ubyte.gz\r\n",
            "-rw-r--r-- 1 root root 9912422 Apr 14 17:44 train-images-idx3-ubyte.gz\r\n",
            "-rw-r--r-- 1 root root   28881 Apr 14 17:44 train-labels-idx1-ubyte.gz\r\n"
          ],
          "name": "stdout"
        }
      ]
    },
    {
      "metadata": {
        "id": "HXGPGMMcnDPM",
        "colab_type": "text"
      },
      "cell_type": "markdown",
      "source": [
        "Let's start by importing some packages we need."
      ]
    },
    {
      "metadata": {
        "id": "uSE8ZutEnDPQ",
        "colab_type": "code",
        "colab": {}
      },
      "cell_type": "code",
      "source": [
        "import tensorflow as tf\n",
        "from tensorflow.examples.tutorials.mnist import input_data\n",
        "\n",
        "import matplotlib.pyplot as plt\n",
        "%matplotlib inline\n",
        "plt.rcParams['figure.figsize'] = (5.0, 4.0)\n",
        "plt.rcParams['image.cmap'] = 'Greys'\n",
        "\n",
        "import numpy as np\n",
        "np.set_printoptions(suppress=True)\n",
        "np.set_printoptions(precision=2)"
      ],
      "execution_count": 0,
      "outputs": []
    },
    {
      "metadata": {
        "id": "P6Q6sF2lnDPc",
        "colab_type": "text"
      },
      "cell_type": "markdown",
      "source": [
        "## Getting a feel for the data\n",
        "\n",
        "MNIST is a dataset that contains 70,000 labelled images of handwritten digits that look like the following.\n",
        "\n",
        "<!-- ![MNIST Data Sample](images/mnist-sample.png \"MNIST Data Sample\") -->\n",
        "\n",
        "![MNIST Data Sample_From_URL](https://github.com/sbanerjee2020/NST/blob/master/images/mnist-sample.png?raw=true \"MNIST Data Sample\")\n",
        "\n",
        "\n",
        "\n",
        "We're going to train a linear classifier on a part of this data set, and test it against another portion of the data set to see how well we did.\n",
        "\n",
        "The TensorFlow tutorial comes with a handy loader for this dataset."
      ]
    },
    {
      "metadata": {
        "id": "kd92gM1UnDPe",
        "colab_type": "code",
        "colab": {
          "base_uri": "https://localhost:8080/",
          "height": 85
        },
        "outputId": "3b4d02e3-0664-4d72-864a-6ac9380ea043"
      },
      "cell_type": "code",
      "source": [
        "mnist = input_data.read_data_sets(\"MNIST_data/\", one_hot=True)"
      ],
      "execution_count": 35,
      "outputs": [
        {
          "output_type": "stream",
          "text": [
            "Extracting MNIST_data/train-images-idx3-ubyte.gz\n",
            "Extracting MNIST_data/train-labels-idx1-ubyte.gz\n",
            "Extracting MNIST_data/t10k-images-idx3-ubyte.gz\n",
            "Extracting MNIST_data/t10k-labels-idx1-ubyte.gz\n"
          ],
          "name": "stdout"
        }
      ]
    },
    {
      "metadata": {
        "id": "iYPAfVwBnDPr",
        "colab_type": "text"
      },
      "cell_type": "markdown",
      "source": [
        "The loader even handily splits the data set into three parts:\n",
        "\n",
        "* A training set (55000 examples) used to train the model\n",
        "* A validation set (5000 examples) used to optimise hyperparameters (not shown today)\n",
        "* A test set (10000 examples) used to gauge the accuracy of the trained model\n",
        "\n",
        "The images are greyscale and each 28 pixels wide by 28 pixels tall, and this is stored as an array of length 784.\n",
        "\n",
        "The labels are a *one hot* vector of length 10, meaning it is a vector of all zeros except at the location that corresponds to the label it's referring to. E.g. An image with a label `3` will be represented as `(0, 0, 0, 1, 0, 0, 0, 0, 0, 0)`.\n"
      ]
    },
    {
      "metadata": {
        "id": "DaLsXd9JnDPs",
        "colab_type": "code",
        "colab": {
          "base_uri": "https://localhost:8080/",
          "height": 51
        },
        "outputId": "a0472cda-002f-49e4-a092-401f8444638c"
      },
      "cell_type": "code",
      "source": [
        "print mnist.train.images.shape\n",
        "print mnist.train.labels.shape"
      ],
      "execution_count": 36,
      "outputs": [
        {
          "output_type": "stream",
          "text": [
            "(55000, 784)\n",
            "(55000, 10)\n"
          ],
          "name": "stdout"
        }
      ]
    },
    {
      "metadata": {
        "id": "eyUA_GQQnDPz",
        "colab_type": "code",
        "colab": {
          "base_uri": "https://localhost:8080/",
          "height": 51
        },
        "outputId": "d44bf70c-8b0f-40dc-c4e3-98518fa90533"
      },
      "cell_type": "code",
      "source": [
        "print mnist.test.images.shape\n",
        "print mnist.test.labels.shape"
      ],
      "execution_count": 37,
      "outputs": [
        {
          "output_type": "stream",
          "text": [
            "(10000, 784)\n",
            "(10000, 10)\n"
          ],
          "name": "stdout"
        }
      ]
    },
    {
      "metadata": {
        "id": "gmdfqsLVnDP4",
        "colab_type": "text"
      },
      "cell_type": "markdown",
      "source": [
        "We can get a better sense for one of these examples by visualising the image and looking at the label."
      ]
    },
    {
      "metadata": {
        "id": "LLI9EtvsnDP5",
        "colab_type": "code",
        "colab": {
          "base_uri": "https://localhost:8080/",
          "height": 299
        },
        "outputId": "385360e1-a9d9-4bc7-9d0b-7420394545b4"
      },
      "cell_type": "code",
      "source": [
        "example_image = mnist.train.images[1234]\n",
        "example_image_reshaped = example_image.reshape((28, 28)) # Can't render a line of 784 numbers\n",
        "example_label = mnist.train.labels[1234]\n",
        "\n",
        "print example_label\n",
        "plt.imshow(example_image_reshaped)"
      ],
      "execution_count": 38,
      "outputs": [
        {
          "output_type": "stream",
          "text": [
            "[0. 0. 0. 0. 0. 0. 0. 0. 0. 1.]\n"
          ],
          "name": "stdout"
        },
        {
          "output_type": "execute_result",
          "data": {
            "text/plain": [
              "<matplotlib.image.AxesImage at 0x7f056254f050>"
            ]
          },
          "metadata": {
            "tags": []
          },
          "execution_count": 38
        },
        {
          "output_type": "display_data",
          "data": {
            "image/png": "[encoded data removed]",
            "text/plain": [
              "<matplotlib.figure.Figure at 0x7f0562572fd0>"
            ]
          },
          "metadata": {
            "tags": []
          }
        }
      ]
    },
    {
      "metadata": {
        "id": "WU-0xUganDP_",
        "colab_type": "text"
      },
      "cell_type": "markdown",
      "source": [
        "## Setting up a score function, loss function and optimisation algorithm\n",
        "\n",
        "Now that we have a better sense of the dataset we're working with, let's move onto the machine learning bits.\n",
        "\n",
        "First, we setup some placeholders to hold batches of this training data for when we learn our model. The reason why we work in batches is that it's easier on memory than holding the entire set. And it's this notion of working with (random) batches of input rather than the entire set that moves us from the realm of *Gradient Descent* that we saw earlier, to *Stochastic Gradient Descent* that we have here."
      ]
    },
    {
      "metadata": {
        "id": "4CLH-pmHnDQA",
        "colab_type": "code",
        "colab": {}
      },
      "cell_type": "code",
      "source": [
        "x = tf.placeholder(tf.float32, [None, 784])\n",
        "y_ = tf.placeholder(tf.float32, [None, 10])"
      ],
      "execution_count": 0,
      "outputs": []
    },
    {
      "metadata": {
        "id": "2Tn-MNBbnDQE",
        "colab_type": "text"
      },
      "cell_type": "markdown",
      "source": [
        "We define our linear model for the score function after introducing two of parameters, **W** and **b**.\n",
        "\n",
        "![Linear model](https://github.com/sbanerjee2020/NST/blob/master/images/linear.png?raw=true \"Linear model\")"
      ]
    },
    {
      "metadata": {
        "id": "LwBVLfyPnDQF",
        "colab_type": "code",
        "colab": {}
      },
      "cell_type": "code",
      "source": [
        "W = tf.Variable(tf.zeros([784, 10]))\n",
        "b = tf.Variable(tf.zeros([10]))\n",
        "y = tf.nn.softmax(tf.matmul(x, W) + b)"
      ],
      "execution_count": 0,
      "outputs": []
    },
    {
      "metadata": {
        "id": "Wik62dTDnDQH",
        "colab_type": "text"
      },
      "cell_type": "markdown",
      "source": [
        "We define our loss function to measure how poorly this model performs on images with known labels. We use the a specific form called the [cross entropy loss](https://jamesmccaffrey.wordpress.com/2013/11/05/why-you-should-use-cross-entropy-error-instead-of-classification-error-or-mean-squared-error-for-neural-network-classifier-training/)."
      ]
    },
    {
      "metadata": {
        "id": "JudMz0_PnDQJ",
        "colab_type": "code",
        "colab": {}
      },
      "cell_type": "code",
      "source": [
        "cross_entropy = tf.reduce_mean(-tf.reduce_sum(y_*tf.log(y), reduction_indices=[1]))"
      ],
      "execution_count": 0,
      "outputs": []
    },
    {
      "metadata": {
        "id": "9DI34yh8nDQM",
        "colab_type": "text"
      },
      "cell_type": "markdown",
      "source": [
        "Using the magic of blackbox optimisation algorithms provided by TensorFlow, we can define a single step of the stochastic gradient descent optimiser (to improve our parameters for our score function and reduce the loss) in one line of code."
      ]
    },
    {
      "metadata": {
        "id": "O1vNpKW3nDQN",
        "colab_type": "code",
        "colab": {}
      },
      "cell_type": "code",
      "source": [
        "train_step = tf.train.GradientDescentOptimizer(0.5).minimize(cross_entropy)"
      ],
      "execution_count": 0,
      "outputs": []
    },
    {
      "metadata": {
        "id": "mmqBRhoZnDQQ",
        "colab_type": "text"
      },
      "cell_type": "markdown",
      "source": [
        "## Training the model\n",
        "\n",
        "The way TensorFlow works, we haven't really executed any of the code above in the classic sense. All we've done is defined what's called the computational graph.\n",
        "\n",
        "Now we go ahead and initialise a session to actually train the model and evaluate its performance."
      ]
    },
    {
      "metadata": {
        "id": "j0KdwLC5nDQR",
        "colab_type": "code",
        "colab": {}
      },
      "cell_type": "code",
      "source": [
        "init = tf.global_variables_initializer()\n",
        "sess = tf.Session()\n",
        "sess.run(init)"
      ],
      "execution_count": 0,
      "outputs": []
    },
    {
      "metadata": {
        "id": "vnORbtNenDQT",
        "colab_type": "text"
      },
      "cell_type": "markdown",
      "source": [
        "We train the model iteratively for 1000 steps, loading a batch of example images each time."
      ]
    },
    {
      "metadata": {
        "id": "Wf0jkrOZnDQU",
        "colab_type": "code",
        "colab": {}
      },
      "cell_type": "code",
      "source": [
        "for i in range(1000):\n",
        "  batch_xs, batch_ys = mnist.train.next_batch(100)\n",
        "  sess.run(train_step, feed_dict={x: batch_xs, y_: batch_ys})"
      ],
      "execution_count": 0,
      "outputs": []
    },
    {
      "metadata": {
        "id": "1Xl_z8ybnDQW",
        "colab_type": "text"
      },
      "cell_type": "markdown",
      "source": [
        "## Verifying the results\n",
        "\n",
        "At this point, our model is trained. And we can deterime in the *accuracy* by passing in all the test images and labels, figuring out our own labels, and averaging out the results."
      ]
    },
    {
      "metadata": {
        "id": "aUXWCSm1nDQX",
        "colab_type": "code",
        "colab": {
          "base_uri": "https://localhost:8080/",
          "height": 34
        },
        "outputId": "b5fa3354-9cae-4c28-e9b9-45dba64ba854"
      },
      "cell_type": "code",
      "source": [
        "correct_prediction = tf.equal(tf.argmax(y, 1), tf.argmax(y_, 1))\n",
        "accuracy = tf.reduce_mean(tf.cast(correct_prediction, tf.float32))\n",
        "print(sess.run(accuracy, feed_dict={x: mnist.test.images, y_: mnist.test.labels}))"
      ],
      "execution_count": 45,
      "outputs": [
        {
          "output_type": "stream",
          "text": [
            "0.9166\n"
          ],
          "name": "stdout"
        }
      ]
    },
    {
      "metadata": {
        "id": "u-JfFZ2hnDQc",
        "colab_type": "text"
      },
      "cell_type": "markdown",
      "source": [
        "Around 92%, that's pretty good!"
      ]
    },
    {
      "metadata": {
        "id": "Zpz83-tenDQc",
        "colab_type": "text"
      },
      "cell_type": "markdown",
      "source": [
        "## Extension: Using the trained model\n",
        "\n",
        "Here we try to actually use the model we learn to classify a single test example. It is also easy to [save and restore trained parameters](https://www.tensorflow.org/programmers_guide/variables) for later use."
      ]
    },
    {
      "metadata": {
        "id": "JXm-vED2nDQd",
        "colab_type": "code",
        "colab": {
          "base_uri": "https://localhost:8080/",
          "height": 282
        },
        "outputId": "a97bf38c-5764-46bc-dac9-265bf24d83d8"
      },
      "cell_type": "code",
      "source": [
        "example_image = mnist.test.images[4321]\n",
        "example_image_reshaped = example_image.reshape((28, 28)) # Can't render a line of 784 numbers\n",
        "plt.imshow(example_image_reshaped)"
      ],
      "execution_count": 46,
      "outputs": [
        {
          "output_type": "execute_result",
          "data": {
            "text/plain": [
              "<matplotlib.image.AxesImage at 0x7f05623ff250>"
            ]
          },
          "metadata": {
            "tags": []
          },
          "execution_count": 46
        },
        {
          "output_type": "display_data",
          "data": {
            "image/png": "[encoded data removed]",
            "text/plain": [
              "<matplotlib.figure.Figure at 0x7f056248f190>"
            ]
          },
          "metadata": {
            "tags": []
          }
        }
      ]
    },
    {
      "metadata": {
        "id": "RVHHVtp0nDQh",
        "colab_type": "code",
        "colab": {
          "base_uri": "https://localhost:8080/",
          "height": 34
        },
        "outputId": "9ccb3762-4bbc-4029-a74f-7a0c1198acc2"
      },
      "cell_type": "code",
      "source": [
        "normalised_scores = sess.run(y, feed_dict={x: [example_image]})\n",
        "print normalised_scores"
      ],
      "execution_count": 47,
      "outputs": [
        {
          "output_type": "stream",
          "text": [
            "[[0.   0.   0.   0.   0.   0.   0.   0.04 0.02 0.94]]\n"
          ],
          "name": "stdout"
        }
      ]
    }
  ]
}