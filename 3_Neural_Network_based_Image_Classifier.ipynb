{
  "nbformat": 4,
  "nbformat_minor": 0,
  "metadata": {
    "colab": {
      "name": "3_Neural_Network-based_Image_Classifier.ipynb",
      "version": "0.3.2",
      "provenance": [],
      "collapsed_sections": []
    },
    "kernelspec": {
      "display_name": "Python 2",
      "language": "python",
      "name": "python2"
    }
  },
  "cells": [
    {
      "metadata": {
        "id": "YJqm2kLtoSic",
        "colab_type": "text"
      },
      "cell_type": "markdown",
      "source": [
        "# A neural network-based classifier for the MNIST handwritten digit dataset (Attempt 2)"
      ]
    },
    {
      "metadata": {
        "id": "6VVjKppEoSie",
        "colab_type": "text"
      },
      "cell_type": "markdown",
      "source": [
        "Let's start by importing some packages we need."
      ]
    },
    {
      "metadata": {
        "id": "IsKCe4KEoSih",
        "colab_type": "code",
        "colab": {}
      },
      "cell_type": "code",
      "source": [
        "import tensorflow as tf\n",
        "from tensorflow.examples.tutorials.mnist import input_data\n",
        "\n",
        "import matplotlib.pyplot as plt\n",
        "%matplotlib inline\n",
        "plt.rcParams['figure.figsize'] = (5.0, 4.0)\n",
        "plt.rcParams['image.cmap'] = 'Greys'\n",
        "\n",
        "import numpy as np\n",
        "np.set_printoptions(suppress=True)\n",
        "np.set_printoptions(precision=2)"
      ],
      "execution_count": 0,
      "outputs": []
    },
    {
      "metadata": {
        "id": "Rp4Q8aqqoSin",
        "colab_type": "text"
      },
      "cell_type": "markdown",
      "source": [
        "## Getting a feel for the data\n",
        "\n",
        "MNIST is a dataset that contains 70,000 labelled images of handwritten digits that look like the following.\n",
        "\n",
        "![MNIST Data Sample](https://github.com/sbanerjee2020/NST/blob/master/images/mnist-sample.png?raw=true \"MNIST Data Sample\")\n",
        "\n",
        "We're going to train a linear classifier on a part of this data set, and test it against another portion of the data set to see how well we did.\n",
        "\n",
        "The TensorFlow tutorial comes with a handy loader for this dataset."
      ]
    },
    {
      "metadata": {
        "id": "1w9HmYS-oSio",
        "colab_type": "code",
        "colab": {
          "base_uri": "https://localhost:8080/",
          "height": 153
        },
        "outputId": "f20cce38-14fb-4aed-9336-c5bdeda420e4"
      },
      "cell_type": "code",
      "source": [
        "mnist = input_data.read_data_sets(\"MNIST_data/\", one_hot=True)"
      ],
      "execution_count": 2,
      "outputs": [
        {
          "output_type": "stream",
          "text": [
            "Successfully downloaded train-images-idx3-ubyte.gz 9912422 bytes.\n",
            "Extracting MNIST_data/train-images-idx3-ubyte.gz\n",
            "Successfully downloaded train-labels-idx1-ubyte.gz 28881 bytes.\n",
            "Extracting MNIST_data/train-labels-idx1-ubyte.gz\n",
            "Successfully downloaded t10k-images-idx3-ubyte.gz 1648877 bytes.\n",
            "Extracting MNIST_data/t10k-images-idx3-ubyte.gz\n",
            "Successfully downloaded t10k-labels-idx1-ubyte.gz 4542 bytes.\n",
            "Extracting MNIST_data/t10k-labels-idx1-ubyte.gz\n"
          ],
          "name": "stdout"
        }
      ]
    },
    {
      "metadata": {
        "id": "9ifQxaA6oSiz",
        "colab_type": "text"
      },
      "cell_type": "markdown",
      "source": [
        "The loader even handily splits the data set into three parts:\n",
        "\n",
        "* A training set (55000 examples) used to train the model\n",
        "* A validation set (5000 examples) used to optimise hyperparameters (not shown today)\n",
        "* A test set (10000 examples) used to gauge the accuracy of the trained model\n",
        "\n",
        "The images are greyscale and each 28 pixels wide by 28 pixels tall, and this is stored as an array of length 784.\n",
        "\n",
        "The labels are a *one hot* vector of length 10, meaning it is a vector of all zeros except at the location that corresponds to the label it's referring to. E.g. An image with a label `3` will be represented as `(0, 0, 0, 1, 0, 0, 0, 0, 0, 0)`.\n"
      ]
    },
    {
      "metadata": {
        "id": "FkkxyGRloSi0",
        "colab_type": "code",
        "colab": {
          "base_uri": "https://localhost:8080/",
          "height": 51
        },
        "outputId": "f8b5b318-5246-4e61-ecc0-2eb794de03ab"
      },
      "cell_type": "code",
      "source": [
        "print mnist.train.images.shape\n",
        "print mnist.train.labels.shape"
      ],
      "execution_count": 3,
      "outputs": [
        {
          "output_type": "stream",
          "text": [
            "(55000, 784)\n",
            "(55000, 10)\n"
          ],
          "name": "stdout"
        }
      ]
    },
    {
      "metadata": {
        "id": "2qE9n2kOoSi9",
        "colab_type": "code",
        "colab": {
          "base_uri": "https://localhost:8080/",
          "height": 51
        },
        "outputId": "0fa255c8-3d1e-4af3-8590-0fee19b18b03"
      },
      "cell_type": "code",
      "source": [
        "print mnist.test.images.shape\n",
        "print mnist.test.labels.shape"
      ],
      "execution_count": 4,
      "outputs": [
        {
          "output_type": "stream",
          "text": [
            "(10000, 784)\n",
            "(10000, 10)\n"
          ],
          "name": "stdout"
        }
      ]
    },
    {
      "metadata": {
        "id": "ZRSha5K8oSjF",
        "colab_type": "text"
      },
      "cell_type": "markdown",
      "source": [
        "We can get a better sense for one of these examples by visualising the image and looking at the label."
      ]
    },
    {
      "metadata": {
        "id": "rdSeUG8yoSjG",
        "colab_type": "code",
        "colab": {
          "base_uri": "https://localhost:8080/",
          "height": 299
        },
        "outputId": "40ee13d6-bd84-4c09-84f2-31091cb46975"
      },
      "cell_type": "code",
      "source": [
        "example_image = mnist.train.images[1]\n",
        "example_image_reshaped = example_image.reshape((28, 28)) # Can't render a line of 784 numbers\n",
        "example_label = mnist.train.labels[1]\n",
        "\n",
        "print example_label\n",
        "plt.imshow(example_image_reshaped)"
      ],
      "execution_count": 5,
      "outputs": [
        {
          "output_type": "stream",
          "text": [
            "[0. 0. 0. 1. 0. 0. 0. 0. 0. 0.]\n"
          ],
          "name": "stdout"
        },
        {
          "output_type": "execute_result",
          "data": {
            "text/plain": [
              "<matplotlib.image.AxesImage at 0x7f6cf3221f90>"
            ]
          },
          "metadata": {
            "tags": []
          },
          "execution_count": 5
        },
        {
          "output_type": "display_data",
          "data": {
            "image/png": "[encoded data removed]",
            "text/plain": [
              "<matplotlib.figure.Figure at 0x7f6cff7b7790>"
            ]
          },
          "metadata": {
            "tags": []
          }
        }
      ]
    },
    {
      "metadata": {
        "id": "4Nb77UG8oSjO",
        "colab_type": "text"
      },
      "cell_type": "markdown",
      "source": [
        "## Setting up a score function, loss function and optimisation algorithm\n",
        "\n",
        "Now that we have a better sense of the dataset we're working with, let's move onto the machine learning bits.\n",
        "\n",
        "First, we setup some placeholders to hold batches of this training data for when we learn our model. The reason why we work in batches is that it's easier on memory than holding the entire set. And it's this notion of working with (random) batches of input rather than the entire set that moves us from the realm of *Gradient Descent* that we saw earlier, to *Stochastic Gradient Descent* that we have here."
      ]
    },
    {
      "metadata": {
        "id": "ugSc2vRQoSjP",
        "colab_type": "code",
        "colab": {}
      },
      "cell_type": "code",
      "source": [
        "x = tf.placeholder(tf.float32, [None, 784])\n",
        "y_ = tf.placeholder(tf.float32, [None, 10])"
      ],
      "execution_count": 0,
      "outputs": []
    },
    {
      "metadata": {
        "id": "wMImru6hoSjT",
        "colab_type": "text"
      },
      "cell_type": "markdown",
      "source": [
        "We define a nonlinear model for the score function (a vanilla neural network) after introducing two sets of parameters, **W1**, **b1** and **W2**, **b2**.\n",
        "\n",
        "![Neural network 1 hidden layer](https://github.com/sbanerjee2020/NST/blob/master/images/neural-network-1-hidden.png?raw=true \"Neural network with 1 hidden layer\")"
      ]
    },
    {
      "metadata": {
        "id": "SKHEjLyOoSjU",
        "colab_type": "code",
        "colab": {}
      },
      "cell_type": "code",
      "source": [
        "W1 = tf.Variable(tf.truncated_normal(shape=[784, 100], stddev=0.1))\n",
        "b1 = tf.Variable(tf.constant(0.1, shape=[100]))\n",
        "h1 = tf.nn.relu(tf.matmul(x, W1) + b1)\n",
        "\n",
        "W2 = tf.Variable(tf.truncated_normal(shape=[100, 10], stddev=0.1))\n",
        "b2 = tf.Variable(tf.constant(0.1, shape=[10]))\n",
        "y = tf.nn.softmax(tf.matmul(h1, W2) + b2)"
      ],
      "execution_count": 0,
      "outputs": []
    },
    {
      "metadata": {
        "id": "Pz7NMLDNoSjW",
        "colab_type": "text"
      },
      "cell_type": "markdown",
      "source": [
        "Recall that this initialisation was previously flawed because of starting with zeros as below:\n",
        "\n",
        "````\n",
        "W1 = tf.Variable(tf.zeros([784, 100]))\n",
        "b1 = tf.Variable(tf.zeros([100]))\n",
        "W2 = tf.Variable(tf.zeros([100, 10]))\n",
        "b2 = tf.Variable(tf.zeros([10]))\n",
        "\n",
        "````\n",
        "\n",
        "We define our loss function to measure how poorly this model performs on images with known labels. We use the a specific form called the [cross entropy loss](https://jamesmccaffrey.wordpress.com/2013/11/05/why-you-should-use-cross-entropy-error-instead-of-classification-error-or-mean-squared-error-for-neural-network-classifier-training/)."
      ]
    },
    {
      "metadata": {
        "id": "x_H4tVLJoSjX",
        "colab_type": "code",
        "colab": {}
      },
      "cell_type": "code",
      "source": [
        "cross_entropy = tf.reduce_mean(-tf.reduce_sum(y_*tf.log(y), reduction_indices=[1]))"
      ],
      "execution_count": 0,
      "outputs": []
    },
    {
      "metadata": {
        "id": "x0r4alvZoSjb",
        "colab_type": "text"
      },
      "cell_type": "markdown",
      "source": [
        "Using the magic of blackbox optimisation algorithms provided by TensorFlow, we can define a single step of the stochastic gradient descent optimiser (to improve our parameters for our score function and reduce the loss) in one line of code."
      ]
    },
    {
      "metadata": {
        "id": "EoRoPG6OoSjc",
        "colab_type": "code",
        "colab": {}
      },
      "cell_type": "code",
      "source": [
        "train_step = tf.train.GradientDescentOptimizer(0.5).minimize(cross_entropy)"
      ],
      "execution_count": 0,
      "outputs": []
    },
    {
      "metadata": {
        "id": "DTej2X-5oSjf",
        "colab_type": "text"
      },
      "cell_type": "markdown",
      "source": [
        "## Training the model\n",
        "\n",
        "The way TensorFlow works, we haven't really executed any of the code above in the classic sense. All we've done is defined what's called the computational graph.\n",
        "\n",
        "Now we go ahead and initialise a session to actually train the model and evaluate its performance."
      ]
    },
    {
      "metadata": {
        "id": "8Cabsw0joSjg",
        "colab_type": "code",
        "colab": {}
      },
      "cell_type": "code",
      "source": [
        "init = tf.global_variables_initializer()\n",
        "sess = tf.Session()\n",
        "sess.run(init)"
      ],
      "execution_count": 0,
      "outputs": []
    },
    {
      "metadata": {
        "id": "gAdVQ8OhoSji",
        "colab_type": "text"
      },
      "cell_type": "markdown",
      "source": [
        "We train the model iteratively for 1000 steps, loading a batch of example images each time."
      ]
    },
    {
      "metadata": {
        "id": "BN3s1QIBoSjj",
        "colab_type": "code",
        "colab": {}
      },
      "cell_type": "code",
      "source": [
        "for i in range(1000):\n",
        "  batch_xs, batch_ys = mnist.train.next_batch(100)\n",
        "  sess.run(train_step, feed_dict={x: batch_xs, y_: batch_ys})"
      ],
      "execution_count": 0,
      "outputs": []
    },
    {
      "metadata": {
        "id": "ygG_KyBGoSjm",
        "colab_type": "text"
      },
      "cell_type": "markdown",
      "source": [
        "## Verifying the results\n",
        "\n",
        "At this point, our model is trained. And we can deterime in the *accuracy* by passing in all the test images and labels, figuring out our own labels, and averaging out the results."
      ]
    },
    {
      "metadata": {
        "id": "7yoG07XuoSjn",
        "colab_type": "code",
        "colab": {
          "base_uri": "https://localhost:8080/",
          "height": 34
        },
        "outputId": "9a075fdd-966e-4a9b-f849-f26276b761b0"
      },
      "cell_type": "code",
      "source": [
        "correct_prediction = tf.equal(tf.argmax(y, 1), tf.argmax(y_, 1))\n",
        "accuracy = tf.reduce_mean(tf.cast(correct_prediction, tf.float32))\n",
        "print(sess.run(accuracy, feed_dict={x: mnist.test.images, y_: mnist.test.labels}))"
      ],
      "execution_count": 12,
      "outputs": [
        {
          "output_type": "stream",
          "text": [
            "0.9634\n"
          ],
          "name": "stdout"
        }
      ]
    },
    {
      "metadata": {
        "id": "I6BxZm3-oSjs",
        "colab_type": "text"
      },
      "cell_type": "markdown",
      "source": [
        "Around 96%! Amazing."
      ]
    },
    {
      "metadata": {
        "id": "1OMX_wa3oSju",
        "colab_type": "text"
      },
      "cell_type": "markdown",
      "source": [
        "## Extensions\n",
        "\n",
        "1. Play around with the length of the hidden layer and see how the accuracy changes.\n",
        "\n",
        "2. Try extending the model to two hidden layers and see how much the accuracy increases:\n",
        "\n",
        "  ![Neural network 2 hidden layer](https://github.com/sbanerjee2020/NST/blob/master/images/neural-network-2-hidden.png?raw=true \"Neural network with 2 hidden layer\")\n",
        "    \n",
        "  ````\n",
        "  W1 = tf.Variable(tf.truncated_normal(shape=[784, 400], stddev=0.1))\n",
        "  b1 = tf.Variable(tf.constant(0.1, shape=[400]))\n",
        "  h1 = tf.nn.relu(tf.matmul(x, W1) + b1)\n",
        "  \n",
        "  W2 = tf.Variable(tf.truncated_normal(shape=[400, 100], stddev=0.1))\n",
        "  b2 = tf.Variable(tf.constant(0.1, shape=[100]))\n",
        "  h2 = tf.nn.relu(tf.matmul(h1, W2) + b2)\n",
        "  \n",
        "  W3 = tf.Variable(tf.truncated_normal(shape=[100, 10], stddev=0.1))\n",
        "  b3 = tf.Variable(tf.constant(0.1, shape=[10]))\n",
        "  y = tf.nn.softmax(tf.matmul(h2, W3) + b3)\n",
        "  \n",
        "  ````\n",
        "\n",
        "3. Do you have a sense for how many parameters we're approximating and how they're growing as we add these layers?\n",
        "\n",
        "4. How would you improve the accuracy even further?"
      ]
    }
  ]
}