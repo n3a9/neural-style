{
  "nbformat": 4,
  "nbformat_minor": 0,
  "metadata": {
    "colab": {
      "name": "4_Convolutional_Neural_Network-based_Image_Classifier.ipynb",
      "version": "0.3.2",
      "provenance": [],
      "collapsed_sections": []
    },
    "kernelspec": {
      "display_name": "Python 2",
      "language": "python",
      "name": "python2"
    }
  },
  "cells": [
    {
      "metadata": {
        "id": "DubJdwy7s7j_",
        "colab_type": "text"
      },
      "cell_type": "markdown",
      "source": [
        "# A convolutional neural network-based classifier for the MNIST handwritten digit dataset"
      ]
    },
    {
      "metadata": {
        "id": "21p5gAYYs7kC",
        "colab_type": "text"
      },
      "cell_type": "markdown",
      "source": [
        "Let's start by importing some packages we need."
      ]
    },
    {
      "metadata": {
        "id": "X4p9yhBCs7kH",
        "colab_type": "code",
        "colab": {}
      },
      "cell_type": "code",
      "source": [
        "import tensorflow as tf\n",
        "from tensorflow.examples.tutorials.mnist import input_data\n",
        "\n",
        "import matplotlib.pyplot as plt\n",
        "%matplotlib inline\n",
        "plt.rcParams['figure.figsize'] = (5.0, 4.0)\n",
        "plt.rcParams['image.cmap'] = 'Greys'\n",
        "\n",
        "import numpy as np\n",
        "np.set_printoptions(suppress=True)\n",
        "np.set_printoptions(precision=2)"
      ],
      "execution_count": 0,
      "outputs": []
    },
    {
      "metadata": {
        "id": "l560bT9ms7kR",
        "colab_type": "text"
      },
      "cell_type": "markdown",
      "source": [
        "## Getting a feel for the data\n",
        "\n",
        "MNIST is a dataset that contains 70,000 labelled images of handwritten digits that look like the following.\n",
        "\n",
        "![MNIST Data Sample](https://github.com/sbanerjee2020/NST/blob/master/images/mnist-sample.png?raw=true \"MNIST Data Sample\")\n",
        "\n",
        "We're going to train a linear classifier on a part of this data set, and test it against another portion of the data set to see how well we did.\n",
        "\n",
        "The TensorFlow tutorial comes with a handy loader for this dataset."
      ]
    },
    {
      "metadata": {
        "id": "1gwmj3fDs7kU",
        "colab_type": "code",
        "colab": {
          "base_uri": "https://localhost:8080/",
          "height": 85
        },
        "outputId": "e7593d28-bb08-44d3-d54a-89c46ff2588c"
      },
      "cell_type": "code",
      "source": [
        "mnist = input_data.read_data_sets(\"MNIST_data/\", one_hot=True)"
      ],
      "execution_count": 2,
      "outputs": [
        {
          "output_type": "stream",
          "text": [
            "Extracting MNIST_data/train-images-idx3-ubyte.gz\n",
            "Extracting MNIST_data/train-labels-idx1-ubyte.gz\n",
            "Extracting MNIST_data/t10k-images-idx3-ubyte.gz\n",
            "Extracting MNIST_data/t10k-labels-idx1-ubyte.gz\n"
          ],
          "name": "stdout"
        }
      ]
    },
    {
      "metadata": {
        "id": "DuLF3ChFs7ki",
        "colab_type": "text"
      },
      "cell_type": "markdown",
      "source": [
        "The loader even handily splits the data set into three parts:\n",
        "\n",
        "* A training set (55000 examples) used to train the model\n",
        "* A validation set (5000 examples) used to optimise hyperparameters (not shown today)\n",
        "* A test set (10000 examples) used to gauge the accuracy of the trained model\n",
        "\n",
        "The images are greyscale and each 28 pixels wide by 28 pixels tall, and this is stored as an array of length 784.\n",
        "\n",
        "The labels are a *one hot* vector of length 10, meaning it is a vector of all zeros except at the location that corresponds to the label it's referring to. E.g. An image with a label `3` will be represented as `(0, 0, 0, 1, 0, 0, 0, 0, 0, 0)`.\n"
      ]
    },
    {
      "metadata": {
        "id": "IjbqqSSJs7kk",
        "colab_type": "code",
        "colab": {
          "base_uri": "https://localhost:8080/",
          "height": 51
        },
        "outputId": "f24d5f2d-82f1-4088-867f-323cc473d18e"
      },
      "cell_type": "code",
      "source": [
        "print mnist.train.images.shape\n",
        "print mnist.train.labels.shape"
      ],
      "execution_count": 3,
      "outputs": [
        {
          "output_type": "stream",
          "text": [
            "(55000, 784)\n",
            "(55000, 10)\n"
          ],
          "name": "stdout"
        }
      ]
    },
    {
      "metadata": {
        "id": "tpe1kahKs7ks",
        "colab_type": "code",
        "colab": {
          "base_uri": "https://localhost:8080/",
          "height": 51
        },
        "outputId": "82242dfb-bc69-4361-9552-f1615a44480f"
      },
      "cell_type": "code",
      "source": [
        "print mnist.test.images.shape\n",
        "print mnist.test.labels.shape"
      ],
      "execution_count": 4,
      "outputs": [
        {
          "output_type": "stream",
          "text": [
            "(10000, 784)\n",
            "(10000, 10)\n"
          ],
          "name": "stdout"
        }
      ]
    },
    {
      "metadata": {
        "id": "a1_vthTDs7k9",
        "colab_type": "text"
      },
      "cell_type": "markdown",
      "source": [
        "We can get a better sense for one of these examples by visualising the image and looking at the label."
      ]
    },
    {
      "metadata": {
        "id": "OT5Qukocs7k-",
        "colab_type": "code",
        "colab": {
          "base_uri": "https://localhost:8080/",
          "height": 299
        },
        "outputId": "d7ddf5ad-2a8d-4b62-adc4-cf148b7153c0"
      },
      "cell_type": "code",
      "source": [
        "example_image = mnist.train.images[1]\n",
        "example_image_reshaped = example_image.reshape((28, 28)) # Can't render a line of 784 numbers\n",
        "example_label = mnist.train.labels[1]\n",
        "\n",
        "print example_label\n",
        "plt.imshow(example_image_reshaped)"
      ],
      "execution_count": 5,
      "outputs": [
        {
          "output_type": "stream",
          "text": [
            "[0. 0. 0. 1. 0. 0. 0. 0. 0. 0.]\n"
          ],
          "name": "stdout"
        },
        {
          "output_type": "execute_result",
          "data": {
            "text/plain": [
              "<matplotlib.image.AxesImage at 0x7f09fba17cd0>"
            ]
          },
          "metadata": {
            "tags": []
          },
          "execution_count": 5
        },
        {
          "output_type": "display_data",
          "data": {
            "image/png": "[encoded data removed]",
            "text/plain": [
              "<matplotlib.figure.Figure at 0x7f0a07b8a890>"
            ]
          },
          "metadata": {
            "tags": []
          }
        }
      ]
    },
    {
      "metadata": {
        "id": "I_AzThiBs7lF",
        "colab_type": "text"
      },
      "cell_type": "markdown",
      "source": [
        "## Setting up a score function, loss function and optimisation algorithm\n",
        "\n",
        "Now that we have a better sense of the dataset we're working with, let's move onto the machine learning bits.\n",
        "\n",
        "First, we setup some placeholders to hold batches of this training data for when we learn our model. The reason why we work in batches is that it's easier on memory than holding the entire set. And it's this notion of working with (random) batches of input rather than the entire set that moves us from the realm of *Gradient Descent* that we saw earlier, to *Stochastic Gradient Descent* that we have here."
      ]
    },
    {
      "metadata": {
        "id": "AETZhx6Ls7lH",
        "colab_type": "code",
        "colab": {}
      },
      "cell_type": "code",
      "source": [
        "x = tf.placeholder(tf.float32, [None, 784])\n",
        "y_ = tf.placeholder(tf.float32, [None, 10])"
      ],
      "execution_count": 0,
      "outputs": []
    },
    {
      "metadata": {
        "id": "qz3DI86As7lL",
        "colab_type": "text"
      },
      "cell_type": "markdown",
      "source": [
        "In abstract notation, the models we've seen so far are:\n",
        "\n",
        "1. `Linear: Input -> FC -> Softmax -> Loss`\n",
        "2. `Neural Network: Input -> FC -> ReLU -> FC -> Softmax -> Loss`\n",
        "\n",
        "In this notation, the model we're going to work out in this example is:\n",
        "\n",
        "`Input -> CONV (-> ReLU -> Pool) -> FC -> ReLU -> FC -> Softmax -> Loss`"
      ]
    },
    {
      "metadata": {
        "id": "vI3EH8y2s7lM",
        "colab_type": "code",
        "colab": {}
      },
      "cell_type": "code",
      "source": [
        "# Define some helper functions to ease the definition of the model\n",
        "def weight_variable(shape):\n",
        "    return tf.Variable(tf.truncated_normal(shape, stddev=0.1))\n",
        "\n",
        "def bias_variable(shape):\n",
        "    return tf.Variable(tf.constant(0.1, shape=shape))\n",
        "\n",
        "def conv(x, W):\n",
        "    return tf.nn.conv2d(x, W, strides=[1, 1, 1, 1], padding='SAME')\n",
        "\n",
        "def pool(x):\n",
        "    return tf.nn.max_pool(x, ksize=[1, 2, 2, 1], strides=[1, 2, 2, 1], padding='SAME')\n",
        "\n",
        "\n",
        "# A score function (model) involving some layers\n",
        "\n",
        "# Reshape the input to look like a volume (Input)\n",
        "x_image = tf.reshape(x, [-1, 28, 28, 1])\n",
        "\n",
        "# A convolutional layer (CONV -> RELU -> POOL)\n",
        "W_conv = weight_variable([5, 5, 1, 32])\n",
        "b_conv = bias_variable([32])\n",
        "h_conv = tf.nn.relu(conv(x_image, W_conv) + b_conv)\n",
        "h_pool = pool(h_conv)\n",
        "\n",
        "# A densely connected layer (FC)\n",
        "W_fc1 = weight_variable([14*14*32, 1024])\n",
        "b_fc1 = bias_variable([1024])\n",
        "h_pool_flat = tf.reshape(h_pool, [-1, 14*14*32])\n",
        "h_fc1 = tf.nn.relu(tf.matmul(h_pool_flat, W_fc1) + b_fc1)\n",
        "\n",
        "# Another densely connected layer (for \"readout\") (FC)\n",
        "W_fc2 = weight_variable([1024, 10])\n",
        "b_fc2 = bias_variable([10])\n",
        "y = tf.matmul(h_fc1, W_fc2) + b_fc2"
      ],
      "execution_count": 0,
      "outputs": []
    },
    {
      "metadata": {
        "id": "rmaxi5Sss7lP",
        "colab_type": "text"
      },
      "cell_type": "markdown",
      "source": [
        "We define our loss function to measure how poorly this model performs on images with known labels. We use the a specific form called the [cross entropy loss](https://jamesmccaffrey.wordpress.com/2013/11/05/why-you-should-use-cross-entropy-error-instead-of-classification-error-or-mean-squared-error-for-neural-network-classifier-training/)."
      ]
    },
    {
      "metadata": {
        "id": "qnoXH7JHs7lQ",
        "colab_type": "code",
        "colab": {
          "base_uri": "https://localhost:8080/",
          "height": 173
        },
        "outputId": "c38e1c91-d929-409b-f855-e1cdb9f0c977"
      },
      "cell_type": "code",
      "source": [
        "cross_entropy = tf.reduce_mean(tf.nn.softmax_cross_entropy_with_logits(logits=y, labels=y_))"
      ],
      "execution_count": 8,
      "outputs": [
        {
          "output_type": "stream",
          "text": [
            "WARNING:tensorflow:From <ipython-input-8-df47bc2e8e45>:1: softmax_cross_entropy_with_logits (from tensorflow.python.ops.nn_ops) is deprecated and will be removed in a future version.\n",
            "Instructions for updating:\n",
            "\n",
            "Future major versions of TensorFlow will allow gradients to flow\n",
            "into the labels input on backprop by default.\n",
            "\n",
            "See tf.nn.softmax_cross_entropy_with_logits_v2.\n",
            "\n"
          ],
          "name": "stdout"
        }
      ]
    },
    {
      "metadata": {
        "id": "BY7_QdHHs7lY",
        "colab_type": "text"
      },
      "cell_type": "markdown",
      "source": [
        "Using the magic of blackbox optimisation algorithms provided by TensorFlow, we can define a single step of the [Adam optimiser](https://arxiv.org/abs/1412.6980) (to improve our parameters for our score function and reduce the loss) in one line of code."
      ]
    },
    {
      "metadata": {
        "id": "7iel0U38s7lZ",
        "colab_type": "code",
        "colab": {}
      },
      "cell_type": "code",
      "source": [
        "train_step = tf.train.AdamOptimizer(1e-4).minimize(cross_entropy)"
      ],
      "execution_count": 0,
      "outputs": []
    },
    {
      "metadata": {
        "id": "D1c7KcDYs7lc",
        "colab_type": "text"
      },
      "cell_type": "markdown",
      "source": [
        "## Training the model\n",
        "\n",
        "The way TensorFlow works, we haven't really executed any of the code above in the classic sense. All we've done is defined what's called the computational graph.\n",
        "\n",
        "Now we go ahead and initialise a session to actually train the model and evaluate its performance."
      ]
    },
    {
      "metadata": {
        "id": "nmKo5MsGs7ld",
        "colab_type": "code",
        "colab": {}
      },
      "cell_type": "code",
      "source": [
        "init = tf.global_variables_initializer()\n",
        "sess = tf.Session()\n",
        "sess.run(init)"
      ],
      "execution_count": 0,
      "outputs": []
    },
    {
      "metadata": {
        "id": "P9fgfABos7lg",
        "colab_type": "text"
      },
      "cell_type": "markdown",
      "source": [
        "We train the model iteratively for 20000 steps, loading a batch of example images each time."
      ]
    },
    {
      "metadata": {
        "id": "y1Bi1jT5s7lh",
        "colab_type": "code",
        "colab": {}
      },
      "cell_type": "code",
      "source": [
        "correct_prediction = tf.equal(tf.argmax(y, 1), tf.argmax(y_, 1))\n",
        "accuracy = tf.reduce_mean(tf.cast(correct_prediction, tf.float32))"
      ],
      "execution_count": 0,
      "outputs": []
    },
    {
      "metadata": {
        "id": "5c-zpuUcs7lk",
        "colab_type": "code",
        "colab": {
          "base_uri": "https://localhost:8080/",
          "height": 357
        },
        "outputId": "58a71c7a-9208-4872-ea23-228f1463e953"
      },
      "cell_type": "code",
      "source": [
        "for i in range(2000):\n",
        "    batch = mnist.train.next_batch(50)\n",
        "    if i%100 == 0:\n",
        "        train_accuracy = accuracy.eval(session=sess, feed_dict={\n",
        "            x:batch[0], y_: batch[1]})\n",
        "        print(\"step %d, training accuracy %g\"%(i, train_accuracy))\n",
        "    train_step.run(session=sess, feed_dict={x: batch[0], y_: batch[1]})"
      ],
      "execution_count": 12,
      "outputs": [
        {
          "output_type": "stream",
          "text": [
            "step 0, training accuracy 0.04\n",
            "step 100, training accuracy 0.88\n",
            "step 200, training accuracy 0.92\n",
            "step 300, training accuracy 0.82\n",
            "step 400, training accuracy 0.86\n",
            "step 500, training accuracy 0.9\n",
            "step 600, training accuracy 0.92\n",
            "step 700, training accuracy 0.96\n",
            "step 800, training accuracy 0.94\n",
            "step 900, training accuracy 0.94\n",
            "step 1000, training accuracy 0.96\n",
            "step 1100, training accuracy 0.98\n",
            "step 1200, training accuracy 0.92\n",
            "step 1300, training accuracy 0.98\n",
            "step 1400, training accuracy 0.98\n",
            "step 1500, training accuracy 1\n",
            "step 1600, training accuracy 0.94\n",
            "step 1700, training accuracy 0.98\n",
            "step 1800, training accuracy 0.94\n",
            "step 1900, training accuracy 1\n"
          ],
          "name": "stdout"
        }
      ]
    },
    {
      "metadata": {
        "id": "QLSjc4_Bs7lp",
        "colab_type": "text"
      },
      "cell_type": "markdown",
      "source": [
        "## Verifying the results\n",
        "\n",
        "At this point, our model is trained. And we can deterime in the *accuracy* by passing in all the test images and labels, figuring out our own labels, and averaging out the results."
      ]
    },
    {
      "metadata": {
        "id": "_GyV8oPes7lp",
        "colab_type": "code",
        "colab": {
          "base_uri": "https://localhost:8080/",
          "height": 34
        },
        "outputId": "82c707be-0b3b-43b3-9ed9-4c90948265f6"
      },
      "cell_type": "code",
      "source": [
        "print(sess.run(accuracy, feed_dict={x: mnist.test.images, y_: mnist.test.labels}))"
      ],
      "execution_count": 13,
      "outputs": [
        {
          "output_type": "stream",
          "text": [
            "0.9726\n"
          ],
          "name": "stdout"
        }
      ]
    },
    {
      "metadata": {
        "id": "TcazGeVbs7lu",
        "colab_type": "text"
      },
      "cell_type": "markdown",
      "source": [
        "## Extension: Reproduce the Deep MNIST for Experts tutorial\n",
        "\n",
        "The model we used in this exercise,\n",
        "\n",
        "`Input -> CONV (-> ReLU -> Pool) -> FC -> ReLU -> FC -> Softmax -> Loss`\n",
        "\n",
        "is a simplified version of the model used in the the [Deep MNIST for Experts](https://www.tensorflow.org/get_started/mnist/pros) tutorial on the TensorFlow website:\n",
        "\n",
        "`Input -> CONV (-> RELU -> Pool) -> CONV (-> RELU -> Pool) -> FC -> ReLU -> Dropout -> FC -> Softmax -> Loss`\n",
        "\n",
        "You're now in a greate place to extend this code to their mode, further upping the classification accuracy!"
      ]
    }
  ]
}